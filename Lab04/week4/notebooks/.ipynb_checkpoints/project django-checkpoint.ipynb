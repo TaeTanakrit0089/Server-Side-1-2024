{
 "cells": [
  {
   "cell_type": "code",
   "execution_count": 1,
   "id": "b9cdda80",
   "metadata": {},
   "outputs": [],
   "source": [
    "import os\n",
    "os.environ[\"DJANGO_ALLOW_ASYNC_UNSAFE\"] = \"true\""
   ]
  },
  {
   "cell_type": "code",
   "execution_count": 3,
   "id": "9def9c72",
   "metadata": {},
   "outputs": [],
   "source": [
    "# class Blog(models.Model):\n",
    "#     name = models.CharField(max_length=100)\n",
    "#     tagline = models.TextField()\n",
    "\n",
    "#     def __str__(self):\n",
    "#         return self.name\n",
    "from blogs.models import Blog"
   ]
  },
  {
   "cell_type": "code",
   "execution_count": 4,
   "id": "a7a85e9d",
   "metadata": {},
   "outputs": [],
   "source": [
    "b1 = Blog(name=\"Blog1\", tagline=\"tagline01\")\n",
    "b1.save()"
   ]
  },
  {
   "cell_type": "code",
   "execution_count": 8,
   "id": "d3b484ab",
   "metadata": {},
   "outputs": [],
   "source": [
    "b2 = Blog(name=\"Blog2\", tagline=\"tagline02\")\n",
    "b2.save()"
   ]
  },
  {
   "cell_type": "code",
   "execution_count": 9,
   "id": "77ea5acd",
   "metadata": {},
   "outputs": [],
   "source": [
    "b3 = Blog(name=\"Blog3\", tagline=\"tagline03\")\n",
    "b3.save()"
   ]
  },
  {
   "cell_type": "code",
   "execution_count": 12,
   "id": "ad0bbdb9",
   "metadata": {},
   "outputs": [],
   "source": [
    "# class Author(models.Model):\n",
    "#     name = models.CharField(max_length=200)\n",
    "#     email = models.EmailField()\n",
    "\n",
    "#     def __str__(self):\n",
    "#         return self.name\n",
    "    \n",
    "from blogs.models import Author"
   ]
  },
  {
   "cell_type": "code",
   "execution_count": 13,
   "id": "8fd816fe",
   "metadata": {},
   "outputs": [],
   "source": [
    "a1 = Author(name=\"John Doe\", email=\"JohnDoe@it.kmitl.ac.th\")\n",
    "a1.save()"
   ]
  },
  {
   "cell_type": "code",
   "execution_count": 14,
   "id": "99d9053a",
   "metadata": {},
   "outputs": [],
   "source": [
    "a2 = Author(name=\"Jane Doe\", email=\"JaneDoe@it.kmitl.ac.th\")\n",
    "a2.save()"
   ]
  },
  {
   "cell_type": "code",
   "execution_count": 15,
   "id": "93a7d9cc",
   "metadata": {},
   "outputs": [],
   "source": [
    "a3 = Author(name=\"Jane Jim\", email=\"JaneJim@it.kmitl.ac.th\")\n",
    "a3.save()"
   ]
  },
  {
   "cell_type": "code",
   "execution_count": 7,
   "id": "f5262675",
   "metadata": {},
   "outputs": [],
   "source": [
    "# class Entry(models.Model):\n",
    "#     blog = models.ForeignKey(Blog, on_delete=models.CASCADE)\n",
    "#     headline = models.CharField(max_length=255)\n",
    "#     body_text = models.TextField()\n",
    "#     pub_date = models.DateField()\n",
    "#     mod_date = models.DateField(default=date.today)\n",
    "#     authors = models.ManyToManyField(Author)\n",
    "#     number_of_comments = models.IntegerField(default=0)\n",
    "#     number_of_pingbacks = models.IntegerField(default=0)\n",
    "#     rating = models.IntegerField(default=5)\n",
    "\n",
    "#     def __str__(self):\n",
    "#         return self.headline\n",
    "from datetime import datetime as dt\n",
    "from blogs.models import Entry\n",
    "e1 = Entry(\n",
    "    blog=b1,\n",
    "    headline=\"The beginning\",\n",
    "    body_text=\"Bla bla bla...\",\n",
    "    pub_date=dt(2024, 1, 1)\n",
    ")\n",
    "e1.save()"
   ]
  },
  {
   "cell_type": "code",
   "execution_count": 11,
   "id": "6618c28f",
   "metadata": {},
   "outputs": [],
   "source": [
    "e1.blog_id = 1\n",
    "e1.save()"
   ]
  },
  {
   "cell_type": "markdown",
   "id": "bfe1e7d2",
   "metadata": {},
   "source": [
    "### Many To Many"
   ]
  },
  {
   "cell_type": "code",
   "execution_count": 16,
   "id": "4da8cc33",
   "metadata": {},
   "outputs": [],
   "source": [
    "e1.authors.add(a1, a2)"
   ]
  },
  {
   "cell_type": "code",
   "execution_count": 17,
   "id": "dbb53908",
   "metadata": {},
   "outputs": [],
   "source": [
    "a1.entry_set.add(e1)"
   ]
  },
  {
   "cell_type": "markdown",
   "id": "8da7032a",
   "metadata": {},
   "source": [
    "## Retrieving Objects"
   ]
  },
  {
   "cell_type": "code",
   "execution_count": null,
   "id": "d1233e98",
   "metadata": {},
   "outputs": [],
   "source": []
  },
  {
   "cell_type": "code",
   "execution_count": 19,
   "id": "bab6ed5a",
   "metadata": {},
   "outputs": [
    {
     "data": {
      "text/plain": [
       "<QuerySet [<Blog: Sooksan>, <Blog: Beatles Blog>, <Blog: Blog1>, <Blog: Blog2>, <Blog: Blog3>]>"
      ]
     },
     "execution_count": 19,
     "metadata": {},
     "output_type": "execute_result"
    }
   ],
   "source": [
    "Blog.objects.all()"
   ]
  },
  {
   "cell_type": "code",
   "execution_count": 22,
   "id": "fc400278",
   "metadata": {},
   "outputs": [
    {
     "data": {
      "text/plain": [
       "<QuerySet [<Blog: Blog1>, <Blog: Blog2>, <Blog: Blog3>]>"
      ]
     },
     "execution_count": 22,
     "metadata": {},
     "output_type": "execute_result"
    }
   ],
   "source": [
    "Blog.objects.filter(name__startswith=\"Blog\")"
   ]
  },
  {
   "cell_type": "code",
   "execution_count": 25,
   "id": "a8f86d16",
   "metadata": {},
   "outputs": [
    {
     "data": {
      "text/plain": [
       "<QuerySet [<Blog: Sooksan>, <Blog: Beatles Blog>]>"
      ]
     },
     "execution_count": 25,
     "metadata": {},
     "output_type": "execute_result"
    }
   ],
   "source": [
    "Blog.objects.exclude(name__startswith=\"Blog\")"
   ]
  },
  {
   "cell_type": "code",
   "execution_count": 29,
   "id": "0d13dae1",
   "metadata": {},
   "outputs": [
    {
     "data": {
      "text/plain": [
       "<Blog: Sooksan>"
      ]
     },
     "execution_count": 29,
     "metadata": {},
     "output_type": "execute_result"
    }
   ],
   "source": [
    "Blog.objects.get(name__startswith=\"Sook\")"
   ]
  },
  {
   "cell_type": "code",
   "execution_count": 30,
   "id": "8cd625ba",
   "metadata": {},
   "outputs": [
    {
     "data": {
      "text/plain": [
       "<Blog: Sooksan>"
      ]
     },
     "execution_count": 30,
     "metadata": {},
     "output_type": "execute_result"
    }
   ],
   "source": [
    "Blog.objects.get(pk=1)"
   ]
  },
  {
   "cell_type": "code",
   "execution_count": 38,
   "id": "5a757899",
   "metadata": {},
   "outputs": [
    {
     "data": {
      "text/plain": [
       "<Blog: Blog3>"
      ]
     },
     "execution_count": 38,
     "metadata": {},
     "output_type": "execute_result"
    }
   ],
   "source": [
    "Blog.objects.first()\n",
    "Blog.objects.last()"
   ]
  },
  {
   "cell_type": "markdown",
   "id": "0f2ed4ec",
   "metadata": {},
   "source": [
    "### Chaining filters"
   ]
  },
  {
   "cell_type": "code",
   "execution_count": null,
   "id": "601a5d2a",
   "metadata": {},
   "outputs": [],
   "source": []
  }
 ],
 "metadata": {
  "kernelspec": {
   "display_name": "Django Shell-Plus",
   "language": "python",
   "name": "django_extensions"
  },
  "language_info": {
   "codemirror_mode": {
    "name": "ipython",
    "version": 3
   },
   "file_extension": ".py",
   "mimetype": "text/x-python",
   "name": "python",
   "nbconvert_exporter": "python",
   "pygments_lexer": "ipython3",
   "version": "3.9.19"
  }
 },
 "nbformat": 4,
 "nbformat_minor": 5
}
