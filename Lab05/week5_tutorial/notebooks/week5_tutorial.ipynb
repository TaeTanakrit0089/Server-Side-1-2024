{
 "cells": [
  {
   "cell_type": "code",
   "execution_count": 1,
   "id": "0fc3ed5c",
   "metadata": {},
   "outputs": [],
   "source": [
    "import os\n",
    "os.environ[\"DJANGO_ALLOW_ASYNC_UNSAFE\"] = \"true\""
   ]
  },
  {
   "cell_type": "code",
   "execution_count": 4,
   "id": "26ec86f2",
   "metadata": {},
   "outputs": [],
   "source": [
    "from companies.models import Company"
   ]
  },
  {
   "cell_type": "code",
   "execution_count": 5,
   "id": "6fb9352b",
   "metadata": {},
   "outputs": [
    {
     "data": {
      "text/plain": [
       "<Company: Company CCC>"
      ]
     },
     "execution_count": 5,
     "metadata": {},
     "output_type": "execute_result"
    }
   ],
   "source": [
    "Company.objects.create(name=\"Company AAA\", num_employees=120, num_chairs=150, num_tables=60)\n",
    "Company.objects.create(name=\"Company BBB\", num_employees=50, num_chairs=30, num_tables=20)\n",
    "Company.objects.create(name=\"Company CCC\", num_employees=100, num_chairs=40, num_tables=40)"
   ]
  },
  {
   "cell_type": "code",
   "execution_count": 7,
   "id": "a9e0834b",
   "metadata": {},
   "outputs": [],
   "source": [
    "from django.db.models import Count, F, Value\n",
    "from django.db.models.functions import Length, Upper\n",
    "from django.db.models.lookups import GreaterThan"
   ]
  },
  {
   "cell_type": "code",
   "execution_count": 10,
   "id": "e3944590",
   "metadata": {},
   "outputs": [],
   "source": [
    "# Find companies that have more employees than chairs.\n",
    "qs = Company.objects.filter(num_employees__gt=F(\"num_chairs\"))"
   ]
  },
  {
   "cell_type": "code",
   "execution_count": 11,
   "id": "905d12c7",
   "metadata": {},
   "outputs": [
    {
     "name": "stdout",
     "output_type": "stream",
     "text": [
      "SELECT \"companies_company\".\"id\", \"companies_company\".\"name\", \"companies_company\".\"ticker\", \"companies_company\".\"num_employees\", \"companies_company\".\"num_tables\", \"companies_company\".\"num_chairs\" FROM \"companies_company\" WHERE \"companies_company\".\"num_employees\" > (\"companies_company\".\"num_chairs\")\n"
     ]
    }
   ],
   "source": [
    "print(qs.query)"
   ]
  },
  {
   "cell_type": "code",
   "execution_count": 12,
   "id": "88afeea6",
   "metadata": {},
   "outputs": [],
   "source": [
    "# Find companies that have at least twice as many employees as chairs.\n",
    "qs = Company.objects.filter(num_employees__gt=F(\"num_chairs\") * 2)"
   ]
  },
  {
   "cell_type": "code",
   "execution_count": 13,
   "id": "b65fab39",
   "metadata": {},
   "outputs": [
    {
     "name": "stdout",
     "output_type": "stream",
     "text": [
      "SELECT \"companies_company\".\"id\", \"companies_company\".\"name\", \"companies_company\".\"ticker\", \"companies_company\".\"num_employees\", \"companies_company\".\"num_tables\", \"companies_company\".\"num_chairs\" FROM \"companies_company\" WHERE \"companies_company\".\"num_employees\" > (\"companies_company\".\"num_chairs\" * 2)\n"
     ]
    }
   ],
   "source": [
    "print(qs.query)"
   ]
  },
  {
   "cell_type": "markdown",
   "id": "d0063edb",
   "metadata": {},
   "source": [
    "## Annotation"
   ]
  },
  {
   "cell_type": "code",
   "execution_count": 19,
   "id": "7c67e5cb",
   "metadata": {},
   "outputs": [],
   "source": [
    "# How many chairs are needed for each company to seat all employees?\n",
    "company = (\n",
    "    Company.objects.filter(num_employees__gt=F(\"num_chairs\"))\n",
    "    .annotate(chairs_needed=F(\"num_employees\") - F(\"num_chairs\"))\n",
    ")"
   ]
  },
  {
   "cell_type": "code",
   "execution_count": 20,
   "id": "5d17c6db",
   "metadata": {},
   "outputs": [
    {
     "name": "stdout",
     "output_type": "stream",
     "text": [
      "Company BBB: Chair Needed = 20\n",
      "Company CCC: Chair Needed = 60\n"
     ]
    }
   ],
   "source": [
    "for c in company:\n",
    "    print(f\"{c.name}: Chair Needed = {c.chairs_needed}\")"
   ]
  },
  {
   "cell_type": "code",
   "execution_count": 26,
   "id": "e1dec360",
   "metadata": {},
   "outputs": [],
   "source": [
    "company = Company.objects.annotate(chairs_needed=F(\"num_employees\") - F(\"num_chairs\")).filter(chairs_needed__gt=50)\n"
   ]
  },
  {
   "cell_type": "code",
   "execution_count": 27,
   "id": "4949f328",
   "metadata": {},
   "outputs": [
    {
     "name": "stdout",
     "output_type": "stream",
     "text": [
      "Company CCC: Chair Needed = 60\n"
     ]
    }
   ],
   "source": [
    "for c in company:\n",
    "    print(f\"{c.name}: Chair Needed = {c.chairs_needed}\")"
   ]
  },
  {
   "cell_type": "code",
   "execution_count": 28,
   "id": "f95be76b",
   "metadata": {},
   "outputs": [
    {
     "name": "stdout",
     "output_type": "stream",
     "text": [
      "SELECT \"companies_company\".\"id\", \"companies_company\".\"name\", \"companies_company\".\"ticker\", \"companies_company\".\"num_employees\", \"companies_company\".\"num_tables\", \"companies_company\".\"num_chairs\", (\"companies_company\".\"num_employees\" - \"companies_company\".\"num_chairs\") AS \"chairs_needed\" FROM \"companies_company\" WHERE (\"companies_company\".\"num_employees\" - \"companies_company\".\"num_chairs\") > 50\n"
     ]
    }
   ],
   "source": [
    "print(company.query)"
   ]
  },
  {
   "cell_type": "code",
   "execution_count": 35,
   "id": "7048b1d4",
   "metadata": {},
   "outputs": [],
   "source": [
    "company = Company.objects.create(name=\"Google\", ticker=Upper(Value(\"goog\")), num_employees=10, num_tables=20, num_chairs=30)"
   ]
  },
  {
   "cell_type": "code",
   "execution_count": 38,
   "id": "ac52751f",
   "metadata": {},
   "outputs": [
    {
     "data": {
      "text/plain": [
       "<QuerySet [<Company: Google>, <Company: Company CCC>, <Company: Company BBB>, <Company: Company AAA>]>"
      ]
     },
     "execution_count": 38,
     "metadata": {},
     "output_type": "execute_result"
    }
   ],
   "source": [
    "# Order By\n",
    "Company.objects.all().order_by(\"-name\", \"num_employees\")"
   ]
  },
  {
   "cell_type": "code",
   "execution_count": 39,
   "id": "672561c2",
   "metadata": {},
   "outputs": [
    {
     "data": {
      "text/plain": [
       "<QuerySet [<Company: Google>, <Company: Company AAA>, <Company: Company BBB>, <Company: Company CCC>]>"
      ]
     },
     "execution_count": 39,
     "metadata": {},
     "output_type": "execute_result"
    }
   ],
   "source": [
    "Company.objects.all().order_by(Length(\"name\").asc())"
   ]
  },
  {
   "cell_type": "code",
   "execution_count": 40,
   "id": "84614990",
   "metadata": {},
   "outputs": [
    {
     "data": {
      "text/plain": [
       "<QuerySet [<Company: Company AAA>, <Company: Company BBB>, <Company: Company CCC>, <Company: Google>]>"
      ]
     },
     "execution_count": 40,
     "metadata": {},
     "output_type": "execute_result"
    }
   ],
   "source": [
    "Company.objects.all().order_by(Length(\"name\").desc())"
   ]
  },
  {
   "cell_type": "code",
   "execution_count": 41,
   "id": "45d07abf",
   "metadata": {},
   "outputs": [
    {
     "data": {
      "text/plain": [
       "<QuerySet [<Company: Company AAA>, <Company: Company BBB>, <Company: Company CCC>, <Company: Google>]>"
      ]
     },
     "execution_count": 41,
     "metadata": {},
     "output_type": "execute_result"
    }
   ],
   "source": [
    "# Lookup expressions can also be used directly in filters\n",
    "Company.objects.filter(GreaterThan(F(\"num_employees\"), F(\"num_chairs\")))\n",
    "# or annotations.\n",
    "Company.objects.annotate(\n",
    "    need_chairs=GreaterThan(F(\"num_employees\"), F(\"num_chairs\")),\n",
    ")"
   ]
  },
  {
   "cell_type": "code",
   "execution_count": null,
   "id": "2076eb18",
   "metadata": {},
   "outputs": [],
   "source": []
  }
 ],
 "metadata": {
  "kernelspec": {
   "display_name": "Django Shell-Plus",
   "language": "python",
   "name": "django_extensions"
  },
  "language_info": {
   "codemirror_mode": {
    "name": "ipython",
    "version": 3
   },
   "file_extension": ".py",
   "mimetype": "text/x-python",
   "name": "python",
   "nbconvert_exporter": "python",
   "pygments_lexer": "ipython3",
   "version": "3.12.2"
  }
 },
 "nbformat": 4,
 "nbformat_minor": 5
}
