{
 "cells": [
  {
   "cell_type": "code",
   "execution_count": 1,
   "id": "0fc3ed5c",
   "metadata": {},
   "outputs": [],
   "source": [
    "import os\n",
    "os.environ[\"DJANGO_ALLOW_ASYNC_UNSAFE\"] = \"true\""
   ]
  },
  {
   "cell_type": "code",
   "execution_count": 4,
   "id": "26ec86f2",
   "metadata": {},
   "outputs": [],
   "source": [
    "from companies.models import Company"
   ]
  },
  {
   "cell_type": "code",
   "execution_count": 5,
   "id": "6fb9352b",
   "metadata": {},
   "outputs": [
    {
     "data": {
      "text/plain": [
       "<Company: Company CCC>"
      ]
     },
     "execution_count": 5,
     "metadata": {},
     "output_type": "execute_result"
    }
   ],
   "source": [
    "Company.objects.create(name=\"Company AAA\", num_employees=120, num_chairs=150, num_tables=60)\n",
    "Company.objects.create(name=\"Company BBB\", num_employees=50, num_chairs=30, num_tables=20)\n",
    "Company.objects.create(name=\"Company CCC\", num_employees=100, num_chairs=40, num_tables=40)"
   ]
  },
  {
   "cell_type": "code",
   "execution_count": 7,
   "id": "a9e0834b",
   "metadata": {},
   "outputs": [],
   "source": [
    "from django.db.models import Count, F, Value\n",
    "from django.db.models.functions import Length, Upper\n",
    "from django.db.models.lookups import GreaterThan"
   ]
  },
  {
   "cell_type": "code",
   "execution_count": 10,
   "id": "e3944590",
   "metadata": {},
   "outputs": [],
   "source": [
    "# Find companies that have more employees than chairs.\n",
    "qs = Company.objects.filter(num_employees__gt=F(\"num_chairs\"))"
   ]
  },
  {
   "cell_type": "code",
   "execution_count": 11,
   "id": "905d12c7",
   "metadata": {},
   "outputs": [
    {
     "name": "stdout",
     "output_type": "stream",
     "text": [
      "SELECT \"companies_company\".\"id\", \"companies_company\".\"name\", \"companies_company\".\"ticker\", \"companies_company\".\"num_employees\", \"companies_company\".\"num_tables\", \"companies_company\".\"num_chairs\" FROM \"companies_company\" WHERE \"companies_company\".\"num_employees\" > (\"companies_company\".\"num_chairs\")\n"
     ]
    }
   ],
   "source": [
    "print(qs.query)"
   ]
  },
  {
   "cell_type": "code",
   "execution_count": 12,
   "id": "88afeea6",
   "metadata": {},
   "outputs": [],
   "source": [
    "# Find companies that have at least twice as many employees as chairs.\n",
    "qs = Company.objects.filter(num_employees__gt=F(\"num_chairs\") * 2)"
   ]
  },
  {
   "cell_type": "code",
   "execution_count": 13,
   "id": "b65fab39",
   "metadata": {},
   "outputs": [
    {
     "name": "stdout",
     "output_type": "stream",
     "text": [
      "SELECT \"companies_company\".\"id\", \"companies_company\".\"name\", \"companies_company\".\"ticker\", \"companies_company\".\"num_employees\", \"companies_company\".\"num_tables\", \"companies_company\".\"num_chairs\" FROM \"companies_company\" WHERE \"companies_company\".\"num_employees\" > (\"companies_company\".\"num_chairs\" * 2)\n"
     ]
    }
   ],
   "source": [
    "print(qs.query)"
   ]
  },
  {
   "cell_type": "markdown",
   "id": "d0063edb",
   "metadata": {},
   "source": [
    "## Annotation"
   ]
  },
  {
   "cell_type": "code",
   "execution_count": 19,
   "id": "7c67e5cb",
   "metadata": {},
   "outputs": [],
   "source": [
    "# How many chairs are needed for each company to seat all employees?\n",
    "company = (\n",
    "    Company.objects.filter(num_employees__gt=F(\"num_chairs\"))\n",
    "    .annotate(chairs_needed=F(\"num_employees\") - F(\"num_chairs\"))\n",
    ")"
   ]
  },
  {
   "cell_type": "code",
   "execution_count": 20,
   "id": "5d17c6db",
   "metadata": {},
   "outputs": [
    {
     "name": "stdout",
     "output_type": "stream",
     "text": [
      "Company BBB: Chair Needed = 20\n",
      "Company CCC: Chair Needed = 60\n"
     ]
    }
   ],
   "source": [
    "for c in company:\n",
    "    print(f\"{c.name}: Chair Needed = {c.chairs_needed}\")"
   ]
  },
  {
   "cell_type": "code",
   "execution_count": 26,
   "id": "e1dec360",
   "metadata": {},
   "outputs": [],
   "source": [
    "company = Company.objects.annotate(chairs_needed=F(\"num_employees\") - F(\"num_chairs\")).filter(chairs_needed__gt=50)\n"
   ]
  },
  {
   "cell_type": "code",
   "execution_count": 27,
   "id": "4949f328",
   "metadata": {},
   "outputs": [
    {
     "name": "stdout",
     "output_type": "stream",
     "text": [
      "Company CCC: Chair Needed = 60\n"
     ]
    }
   ],
   "source": [
    "for c in company:\n",
    "    print(f\"{c.name}: Chair Needed = {c.chairs_needed}\")"
   ]
  },
  {
   "cell_type": "code",
   "execution_count": 28,
   "id": "f95be76b",
   "metadata": {},
   "outputs": [
    {
     "name": "stdout",
     "output_type": "stream",
     "text": [
      "SELECT \"companies_company\".\"id\", \"companies_company\".\"name\", \"companies_company\".\"ticker\", \"companies_company\".\"num_employees\", \"companies_company\".\"num_tables\", \"companies_company\".\"num_chairs\", (\"companies_company\".\"num_employees\" - \"companies_company\".\"num_chairs\") AS \"chairs_needed\" FROM \"companies_company\" WHERE (\"companies_company\".\"num_employees\" - \"companies_company\".\"num_chairs\") > 50\n"
     ]
    }
   ],
   "source": [
    "print(company.query)"
   ]
  },
  {
   "cell_type": "code",
   "execution_count": 35,
   "id": "7048b1d4",
   "metadata": {},
   "outputs": [],
   "source": [
    "company = Company.objects.create(name=\"Google\", ticker=Upper(Value(\"goog\")), num_employees=10, num_tables=20, num_chairs=30)"
   ]
  },
  {
   "cell_type": "code",
   "execution_count": 38,
   "id": "ac52751f",
   "metadata": {},
   "outputs": [
    {
     "data": {
      "text/plain": [
       "<QuerySet [<Company: Google>, <Company: Company CCC>, <Company: Company BBB>, <Company: Company AAA>]>"
      ]
     },
     "execution_count": 38,
     "metadata": {},
     "output_type": "execute_result"
    }
   ],
   "source": [
    "# Order By\n",
    "Company.objects.all().order_by(\"-name\", \"num_employees\")"
   ]
  },
  {
   "cell_type": "code",
   "execution_count": 39,
   "id": "672561c2",
   "metadata": {},
   "outputs": [
    {
     "data": {
      "text/plain": [
       "<QuerySet [<Company: Google>, <Company: Company AAA>, <Company: Company BBB>, <Company: Company CCC>]>"
      ]
     },
     "execution_count": 39,
     "metadata": {},
     "output_type": "execute_result"
    }
   ],
   "source": [
    "Company.objects.all().order_by(Length(\"name\").asc())"
   ]
  },
  {
   "cell_type": "code",
   "execution_count": 40,
   "id": "84614990",
   "metadata": {},
   "outputs": [
    {
     "data": {
      "text/plain": [
       "<QuerySet [<Company: Company AAA>, <Company: Company BBB>, <Company: Company CCC>, <Company: Google>]>"
      ]
     },
     "execution_count": 40,
     "metadata": {},
     "output_type": "execute_result"
    }
   ],
   "source": [
    "Company.objects.all().order_by(Length(\"name\").desc())"
   ]
  },
  {
   "cell_type": "code",
   "execution_count": 41,
   "id": "45d07abf",
   "metadata": {},
   "outputs": [
    {
     "data": {
      "text/plain": [
       "<QuerySet [<Company: Company AAA>, <Company: Company BBB>, <Company: Company CCC>, <Company: Google>]>"
      ]
     },
     "execution_count": 41,
     "metadata": {},
     "output_type": "execute_result"
    }
   ],
   "source": [
    "# Lookup expressions can also be used directly in filters\n",
    "Company.objects.filter(GreaterThan(F(\"num_employees\"), F(\"num_chairs\")))\n",
    "# or annotations.\n",
    "Company.objects.annotate(\n",
    "    need_chairs=GreaterThan(F(\"num_employees\"), F(\"num_chairs\")),\n",
    ")"
   ]
  },
  {
   "cell_type": "markdown",
   "id": "cfbf2cde",
   "metadata": {},
   "source": [
    "# Books"
   ]
  },
  {
   "cell_type": "code",
   "execution_count": 2,
   "id": "cb07cd2f",
   "metadata": {},
   "outputs": [],
   "source": [
    "from books.models import Book"
   ]
  },
  {
   "cell_type": "code",
   "execution_count": 5,
   "id": "b2c3dc88",
   "metadata": {},
   "outputs": [
    {
     "data": {
      "text/plain": [
       "59"
      ]
     },
     "execution_count": 5,
     "metadata": {},
     "output_type": "execute_result"
    }
   ],
   "source": [
    "# Total number of books.\n",
    "Book.objects.count()"
   ]
  },
  {
   "cell_type": "code",
   "execution_count": 6,
   "id": "c8700f14",
   "metadata": {},
   "outputs": [
    {
     "data": {
      "text/plain": [
       "20"
      ]
     },
     "execution_count": 6,
     "metadata": {},
     "output_type": "execute_result"
    }
   ],
   "source": [
    "# Total number of books with publisher=Penguin Books\n",
    "Book.objects.filter(publisher__name=\"Penguin Books\").count()"
   ]
  },
  {
   "cell_type": "code",
   "execution_count": 7,
   "id": "216a975e",
   "metadata": {},
   "outputs": [
    {
     "data": {
      "text/plain": [
       "{'price__avg': Decimal('9.7018644067796610')}"
      ]
     },
     "execution_count": 7,
     "metadata": {},
     "output_type": "execute_result"
    }
   ],
   "source": [
    "Book.objects.aggregate(Avg(\"price\", default=0))"
   ]
  },
  {
   "cell_type": "code",
   "execution_count": 8,
   "id": "725084f5",
   "metadata": {},
   "outputs": [
    {
     "data": {
      "text/plain": [
       "{'price__max': Decimal('14.99')}"
      ]
     },
     "execution_count": 8,
     "metadata": {},
     "output_type": "execute_result"
    }
   ],
   "source": [
    "Book.objects.aggregate(Max(\"price\", default=0))"
   ]
  },
  {
   "cell_type": "markdown",
   "id": "7013dfce",
   "metadata": {},
   "source": [
    "## Many to Many"
   ]
  },
  {
   "cell_type": "code",
   "execution_count": 7,
   "id": "1be661bc",
   "metadata": {},
   "outputs": [
    {
     "data": {
      "text/plain": [
       "20"
      ]
     },
     "execution_count": 7,
     "metadata": {},
     "output_type": "execute_result"
    }
   ],
   "source": [
    "# Get all books published by \"Penguin Books\"\n",
    "penguin_pub = Publisher.objects.get(name=\"Penguin Books\")\n",
    "penguin_pub.book_set.all().count()"
   ]
  },
  {
   "cell_type": "code",
   "execution_count": 9,
   "id": "2e4828dd",
   "metadata": {},
   "outputs": [
    {
     "name": "stdout",
     "output_type": "stream",
     "text": [
      "SELECT \"books_book\".\"id\", \"books_book\".\"name\", \"books_book\".\"pages\", \"books_book\".\"price\", \"books_book\".\"rating\", \"books_book\".\"publisher_id\", \"books_book\".\"pubdate\" FROM \"books_book\" WHERE (\"books_book\".\"publisher_id\" = 1 AND \"books_book\".\"name\"::text LIKE The%)\n"
     ]
    }
   ],
   "source": [
    "# Get books with name starting with \"The\"\n",
    "qs = penguin_pub.book_set.filter(name__startswith=\"The\")\n",
    "print(qs.query)"
   ]
  },
  {
   "cell_type": "code",
   "execution_count": 12,
   "id": "c8dff512",
   "metadata": {},
   "outputs": [],
   "source": [
    "# Get only ids\n",
    "qs = penguin_pub.book_set.filter(name__startswith=\"The\").values_list(\"id\", flat=True)"
   ]
  },
  {
   "cell_type": "code",
   "execution_count": 13,
   "id": "68c61375",
   "metadata": {},
   "outputs": [
    {
     "data": {
      "text/plain": [
       "[1, 5, 8, 14, 17]"
      ]
     },
     "execution_count": 13,
     "metadata": {},
     "output_type": "execute_result"
    }
   ],
   "source": [
    "list(qs)"
   ]
  },
  {
   "cell_type": "code",
   "execution_count": 11,
   "id": "9527ff12",
   "metadata": {},
   "outputs": [
    {
     "data": {
      "text/plain": [
       "<QuerySet [{'id': 1, 'name': 'The Great Gatsby'}, {'id': 5, 'name': 'The Catcher in the Rye'}, {'id': 8, 'name': 'The Odyssey'}, {'id': 14, 'name': 'The Hobbit'}, {'id': 17, 'name': 'The Hitchhiker Guide to the Galaxy'}]>"
      ]
     },
     "execution_count": 11,
     "metadata": {},
     "output_type": "execute_result"
    }
   ],
   "source": [
    "# Get id and name\n",
    "penguin_pub.book_set.filter(name__startswith=\"The\").values(\"id\", \"name\")"
   ]
  },
  {
   "cell_type": "code",
   "execution_count": null,
   "id": "6e382569",
   "metadata": {},
   "outputs": [],
   "source": []
  }
 ],
 "metadata": {
  "kernelspec": {
   "display_name": "Django Shell-Plus",
   "language": "python",
   "name": "django_extensions"
  },
  "language_info": {
   "codemirror_mode": {
    "name": "ipython",
    "version": 3
   },
   "file_extension": ".py",
   "mimetype": "text/x-python",
   "name": "python",
   "nbconvert_exporter": "python",
   "pygments_lexer": "ipython3",
   "version": "3.12.2"
  }
 },
 "nbformat": 4,
 "nbformat_minor": 5
}
