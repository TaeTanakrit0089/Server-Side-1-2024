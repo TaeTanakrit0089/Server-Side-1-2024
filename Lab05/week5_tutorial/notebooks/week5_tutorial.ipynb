{
 "cells": [
  {
   "cell_type": "code",
   "id": "0fc3ed5c",
   "metadata": {
    "ExecuteTime": {
     "end_time": "2024-08-01T03:11:24.826055Z",
     "start_time": "2024-08-01T03:11:24.822963Z"
    }
   },
   "source": [
    "import os\n",
    "os.environ[\"DJANGO_ALLOW_ASYNC_UNSAFE\"] = \"true\""
   ],
   "outputs": [],
   "execution_count": 3
  },
  {
   "cell_type": "code",
   "id": "26ec86f2",
   "metadata": {
    "ExecuteTime": {
     "end_time": "2024-08-01T03:11:25.406002Z",
     "start_time": "2024-08-01T03:11:25.332265Z"
    }
   },
   "source": [
    "from companies.models import Company"
   ],
   "outputs": [
    {
     "ename": "ImproperlyConfigured",
     "evalue": "Requested setting INSTALLED_APPS, but settings are not configured. You must either define the environment variable DJANGO_SETTINGS_MODULE or call settings.configure() before accessing settings.",
     "output_type": "error",
     "traceback": [
      "\u001B[0;31m---------------------------------------------------------------------------\u001B[0m",
      "\u001B[0;31mImproperlyConfigured\u001B[0m                      Traceback (most recent call last)",
      "Cell \u001B[0;32mIn[4], line 1\u001B[0m\n\u001B[0;32m----> 1\u001B[0m \u001B[38;5;28;01mfrom\u001B[39;00m \u001B[38;5;21;01mcompanies\u001B[39;00m\u001B[38;5;21;01m.\u001B[39;00m\u001B[38;5;21;01mmodels\u001B[39;00m \u001B[38;5;28;01mimport\u001B[39;00m Company\n",
      "File \u001B[0;32m~/Desktop/Y3-Server Side/Labs/Lab05/week5_tutorial/companies/models.py:4\u001B[0m\n\u001B[1;32m      1\u001B[0m \u001B[38;5;28;01mfrom\u001B[39;00m \u001B[38;5;21;01mdjango\u001B[39;00m\u001B[38;5;21;01m.\u001B[39;00m\u001B[38;5;21;01mdb\u001B[39;00m \u001B[38;5;28;01mimport\u001B[39;00m models\n\u001B[0;32m----> 4\u001B[0m \u001B[38;5;28;43;01mclass\u001B[39;49;00m\u001B[43m \u001B[49m\u001B[38;5;21;43;01mCompany\u001B[39;49;00m\u001B[43m(\u001B[49m\u001B[43mmodels\u001B[49m\u001B[38;5;241;43m.\u001B[39;49m\u001B[43mModel\u001B[49m\u001B[43m)\u001B[49m\u001B[43m:\u001B[49m\n\u001B[1;32m      5\u001B[0m \u001B[43m    \u001B[49m\u001B[43mname\u001B[49m\u001B[43m \u001B[49m\u001B[38;5;241;43m=\u001B[39;49m\u001B[43m \u001B[49m\u001B[43mmodels\u001B[49m\u001B[38;5;241;43m.\u001B[39;49m\u001B[43mCharField\u001B[49m\u001B[43m(\u001B[49m\u001B[43mmax_length\u001B[49m\u001B[38;5;241;43m=\u001B[39;49m\u001B[38;5;241;43m100\u001B[39;49m\u001B[43m)\u001B[49m\n\u001B[1;32m      6\u001B[0m \u001B[43m    \u001B[49m\u001B[43mticker\u001B[49m\u001B[43m \u001B[49m\u001B[38;5;241;43m=\u001B[39;49m\u001B[43m \u001B[49m\u001B[43mmodels\u001B[49m\u001B[38;5;241;43m.\u001B[39;49m\u001B[43mCharField\u001B[49m\u001B[43m(\u001B[49m\u001B[43mmax_length\u001B[49m\u001B[38;5;241;43m=\u001B[39;49m\u001B[38;5;241;43m20\u001B[39;49m\u001B[43m,\u001B[49m\u001B[43m \u001B[49m\u001B[43mnull\u001B[49m\u001B[38;5;241;43m=\u001B[39;49m\u001B[38;5;28;43;01mTrue\u001B[39;49;00m\u001B[43m)\u001B[49m\n",
      "File \u001B[0;32m~/Desktop/Y3-Server Side/Labs/Lab05/.venv/lib/python3.12/site-packages/django/db/models/base.py:129\u001B[0m, in \u001B[0;36mModelBase.__new__\u001B[0;34m(cls, name, bases, attrs, **kwargs)\u001B[0m\n\u001B[1;32m    126\u001B[0m app_label \u001B[38;5;241m=\u001B[39m \u001B[38;5;28;01mNone\u001B[39;00m\n\u001B[1;32m    128\u001B[0m \u001B[38;5;66;03m# Look for an application configuration to attach the model to.\u001B[39;00m\n\u001B[0;32m--> 129\u001B[0m app_config \u001B[38;5;241m=\u001B[39m \u001B[43mapps\u001B[49m\u001B[38;5;241;43m.\u001B[39;49m\u001B[43mget_containing_app_config\u001B[49m\u001B[43m(\u001B[49m\u001B[43mmodule\u001B[49m\u001B[43m)\u001B[49m\n\u001B[1;32m    131\u001B[0m \u001B[38;5;28;01mif\u001B[39;00m \u001B[38;5;28mgetattr\u001B[39m(meta, \u001B[38;5;124m\"\u001B[39m\u001B[38;5;124mapp_label\u001B[39m\u001B[38;5;124m\"\u001B[39m, \u001B[38;5;28;01mNone\u001B[39;00m) \u001B[38;5;129;01mis\u001B[39;00m \u001B[38;5;28;01mNone\u001B[39;00m:\n\u001B[1;32m    132\u001B[0m     \u001B[38;5;28;01mif\u001B[39;00m app_config \u001B[38;5;129;01mis\u001B[39;00m \u001B[38;5;28;01mNone\u001B[39;00m:\n",
      "File \u001B[0;32m~/Desktop/Y3-Server Side/Labs/Lab05/.venv/lib/python3.12/site-packages/django/apps/registry.py:260\u001B[0m, in \u001B[0;36mApps.get_containing_app_config\u001B[0;34m(self, object_name)\u001B[0m\n\u001B[1;32m    251\u001B[0m \u001B[38;5;28;01mdef\u001B[39;00m \u001B[38;5;21mget_containing_app_config\u001B[39m(\u001B[38;5;28mself\u001B[39m, object_name):\n\u001B[1;32m    252\u001B[0m \u001B[38;5;250m    \u001B[39m\u001B[38;5;124;03m\"\"\"\u001B[39;00m\n\u001B[1;32m    253\u001B[0m \u001B[38;5;124;03m    Look for an app config containing a given object.\u001B[39;00m\n\u001B[1;32m    254\u001B[0m \n\u001B[0;32m   (...)\u001B[0m\n\u001B[1;32m    258\u001B[0m \u001B[38;5;124;03m    Return None if the object isn't in any registered app config.\u001B[39;00m\n\u001B[1;32m    259\u001B[0m \u001B[38;5;124;03m    \"\"\"\u001B[39;00m\n\u001B[0;32m--> 260\u001B[0m     \u001B[38;5;28;43mself\u001B[39;49m\u001B[38;5;241;43m.\u001B[39;49m\u001B[43mcheck_apps_ready\u001B[49m\u001B[43m(\u001B[49m\u001B[43m)\u001B[49m\n\u001B[1;32m    261\u001B[0m     candidates \u001B[38;5;241m=\u001B[39m []\n\u001B[1;32m    262\u001B[0m     \u001B[38;5;28;01mfor\u001B[39;00m app_config \u001B[38;5;129;01min\u001B[39;00m \u001B[38;5;28mself\u001B[39m\u001B[38;5;241m.\u001B[39mapp_configs\u001B[38;5;241m.\u001B[39mvalues():\n",
      "File \u001B[0;32m~/Desktop/Y3-Server Side/Labs/Lab05/.venv/lib/python3.12/site-packages/django/apps/registry.py:137\u001B[0m, in \u001B[0;36mApps.check_apps_ready\u001B[0;34m(self)\u001B[0m\n\u001B[1;32m    132\u001B[0m \u001B[38;5;28;01mfrom\u001B[39;00m \u001B[38;5;21;01mdjango\u001B[39;00m\u001B[38;5;21;01m.\u001B[39;00m\u001B[38;5;21;01mconf\u001B[39;00m \u001B[38;5;28;01mimport\u001B[39;00m settings\n\u001B[1;32m    134\u001B[0m \u001B[38;5;66;03m# If \"not ready\" is due to unconfigured settings, accessing\u001B[39;00m\n\u001B[1;32m    135\u001B[0m \u001B[38;5;66;03m# INSTALLED_APPS raises a more helpful ImproperlyConfigured\u001B[39;00m\n\u001B[1;32m    136\u001B[0m \u001B[38;5;66;03m# exception.\u001B[39;00m\n\u001B[0;32m--> 137\u001B[0m \u001B[43msettings\u001B[49m\u001B[38;5;241;43m.\u001B[39;49m\u001B[43mINSTALLED_APPS\u001B[49m\n\u001B[1;32m    138\u001B[0m \u001B[38;5;28;01mraise\u001B[39;00m AppRegistryNotReady(\u001B[38;5;124m\"\u001B[39m\u001B[38;5;124mApps aren\u001B[39m\u001B[38;5;124m'\u001B[39m\u001B[38;5;124mt loaded yet.\u001B[39m\u001B[38;5;124m\"\u001B[39m)\n",
      "File \u001B[0;32m~/Desktop/Y3-Server Side/Labs/Lab05/.venv/lib/python3.12/site-packages/django/conf/__init__.py:89\u001B[0m, in \u001B[0;36mLazySettings.__getattr__\u001B[0;34m(self, name)\u001B[0m\n\u001B[1;32m     87\u001B[0m \u001B[38;5;250m\u001B[39m\u001B[38;5;124;03m\"\"\"Return the value of a setting and cache it in self.__dict__.\"\"\"\u001B[39;00m\n\u001B[1;32m     88\u001B[0m \u001B[38;5;28;01mif\u001B[39;00m (_wrapped \u001B[38;5;241m:=\u001B[39m \u001B[38;5;28mself\u001B[39m\u001B[38;5;241m.\u001B[39m_wrapped) \u001B[38;5;129;01mis\u001B[39;00m empty:\n\u001B[0;32m---> 89\u001B[0m     \u001B[38;5;28;43mself\u001B[39;49m\u001B[38;5;241;43m.\u001B[39;49m\u001B[43m_setup\u001B[49m\u001B[43m(\u001B[49m\u001B[43mname\u001B[49m\u001B[43m)\u001B[49m\n\u001B[1;32m     90\u001B[0m     _wrapped \u001B[38;5;241m=\u001B[39m \u001B[38;5;28mself\u001B[39m\u001B[38;5;241m.\u001B[39m_wrapped\n\u001B[1;32m     91\u001B[0m val \u001B[38;5;241m=\u001B[39m \u001B[38;5;28mgetattr\u001B[39m(_wrapped, name)\n",
      "File \u001B[0;32m~/Desktop/Y3-Server Side/Labs/Lab05/.venv/lib/python3.12/site-packages/django/conf/__init__.py:69\u001B[0m, in \u001B[0;36mLazySettings._setup\u001B[0;34m(self, name)\u001B[0m\n\u001B[1;32m     67\u001B[0m \u001B[38;5;28;01mif\u001B[39;00m \u001B[38;5;129;01mnot\u001B[39;00m settings_module:\n\u001B[1;32m     68\u001B[0m     desc \u001B[38;5;241m=\u001B[39m (\u001B[38;5;124m\"\u001B[39m\u001B[38;5;124msetting \u001B[39m\u001B[38;5;132;01m%s\u001B[39;00m\u001B[38;5;124m\"\u001B[39m \u001B[38;5;241m%\u001B[39m name) \u001B[38;5;28;01mif\u001B[39;00m name \u001B[38;5;28;01melse\u001B[39;00m \u001B[38;5;124m\"\u001B[39m\u001B[38;5;124msettings\u001B[39m\u001B[38;5;124m\"\u001B[39m\n\u001B[0;32m---> 69\u001B[0m     \u001B[38;5;28;01mraise\u001B[39;00m ImproperlyConfigured(\n\u001B[1;32m     70\u001B[0m         \u001B[38;5;124m\"\u001B[39m\u001B[38;5;124mRequested \u001B[39m\u001B[38;5;132;01m%s\u001B[39;00m\u001B[38;5;124m, but settings are not configured. \u001B[39m\u001B[38;5;124m\"\u001B[39m\n\u001B[1;32m     71\u001B[0m         \u001B[38;5;124m\"\u001B[39m\u001B[38;5;124mYou must either define the environment variable \u001B[39m\u001B[38;5;132;01m%s\u001B[39;00m\u001B[38;5;124m \u001B[39m\u001B[38;5;124m\"\u001B[39m\n\u001B[1;32m     72\u001B[0m         \u001B[38;5;124m\"\u001B[39m\u001B[38;5;124mor call settings.configure() before accessing settings.\u001B[39m\u001B[38;5;124m\"\u001B[39m\n\u001B[1;32m     73\u001B[0m         \u001B[38;5;241m%\u001B[39m (desc, ENVIRONMENT_VARIABLE)\n\u001B[1;32m     74\u001B[0m     )\n\u001B[1;32m     76\u001B[0m \u001B[38;5;28mself\u001B[39m\u001B[38;5;241m.\u001B[39m_wrapped \u001B[38;5;241m=\u001B[39m Settings(settings_module)\n",
      "\u001B[0;31mImproperlyConfigured\u001B[0m: Requested setting INSTALLED_APPS, but settings are not configured. You must either define the environment variable DJANGO_SETTINGS_MODULE or call settings.configure() before accessing settings."
     ]
    }
   ],
   "execution_count": 4
  },
  {
   "cell_type": "code",
   "execution_count": 5,
   "id": "6fb9352b",
   "metadata": {},
   "outputs": [
    {
     "data": {
      "text/plain": [
       "<Company: Company CCC>"
      ]
     },
     "execution_count": 5,
     "metadata": {},
     "output_type": "execute_result"
    }
   ],
   "source": [
    "Company.objects.create(name=\"Company AAA\", num_employees=120, num_chairs=150, num_tables=60)\n",
    "Company.objects.create(name=\"Company BBB\", num_employees=50, num_chairs=30, num_tables=20)\n",
    "Company.objects.create(name=\"Company CCC\", num_employees=100, num_chairs=40, num_tables=40)"
   ]
  },
  {
   "cell_type": "code",
   "execution_count": 7,
   "id": "a9e0834b",
   "metadata": {},
   "outputs": [],
   "source": [
    "from django.db.models import Count, F, Value\n",
    "from django.db.models.functions import Length, Upper\n",
    "from django.db.models.lookups import GreaterThan"
   ]
  },
  {
   "cell_type": "code",
   "execution_count": 10,
   "id": "e3944590",
   "metadata": {},
   "outputs": [],
   "source": [
    "# Find companies that have more employees than chairs.\n",
    "qs = Company.objects.filter(num_employees__gt=F(\"num_chairs\"))"
   ]
  },
  {
   "cell_type": "code",
   "execution_count": 11,
   "id": "905d12c7",
   "metadata": {},
   "outputs": [
    {
     "name": "stdout",
     "output_type": "stream",
     "text": [
      "SELECT \"companies_company\".\"id\", \"companies_company\".\"name\", \"companies_company\".\"ticker\", \"companies_company\".\"num_employees\", \"companies_company\".\"num_tables\", \"companies_company\".\"num_chairs\" FROM \"companies_company\" WHERE \"companies_company\".\"num_employees\" > (\"companies_company\".\"num_chairs\")\n"
     ]
    }
   ],
   "source": [
    "print(qs.query)"
   ]
  },
  {
   "cell_type": "code",
   "execution_count": 12,
   "id": "88afeea6",
   "metadata": {},
   "outputs": [],
   "source": [
    "# Find companies that have at least twice as many employees as chairs.\n",
    "qs = Company.objects.filter(num_employees__gt=F(\"num_chairs\") * 2)"
   ]
  },
  {
   "cell_type": "code",
   "execution_count": 13,
   "id": "b65fab39",
   "metadata": {},
   "outputs": [
    {
     "name": "stdout",
     "output_type": "stream",
     "text": [
      "SELECT \"companies_company\".\"id\", \"companies_company\".\"name\", \"companies_company\".\"ticker\", \"companies_company\".\"num_employees\", \"companies_company\".\"num_tables\", \"companies_company\".\"num_chairs\" FROM \"companies_company\" WHERE \"companies_company\".\"num_employees\" > (\"companies_company\".\"num_chairs\" * 2)\n"
     ]
    }
   ],
   "source": [
    "print(qs.query)"
   ]
  },
  {
   "cell_type": "markdown",
   "id": "d0063edb",
   "metadata": {},
   "source": [
    "## Annotation"
   ]
  },
  {
   "cell_type": "code",
   "execution_count": 19,
   "id": "7c67e5cb",
   "metadata": {},
   "outputs": [],
   "source": [
    "# How many chairs are needed for each company to seat all employees?\n",
    "company = (\n",
    "    Company.objects.filter(num_employees__gt=F(\"num_chairs\"))\n",
    "    .annotate(chairs_needed=F(\"num_employees\") - F(\"num_chairs\"))\n",
    ")"
   ]
  },
  {
   "cell_type": "code",
   "execution_count": 20,
   "id": "5d17c6db",
   "metadata": {},
   "outputs": [
    {
     "name": "stdout",
     "output_type": "stream",
     "text": [
      "Company BBB: Chair Needed = 20\n",
      "Company CCC: Chair Needed = 60\n"
     ]
    }
   ],
   "source": [
    "for c in company:\n",
    "    print(f\"{c.name}: Chair Needed = {c.chairs_needed}\")"
   ]
  },
  {
   "cell_type": "code",
   "execution_count": 26,
   "id": "e1dec360",
   "metadata": {},
   "outputs": [],
   "source": [
    "company = Company.objects.annotate(chairs_needed=F(\"num_employees\") - F(\"num_chairs\")).filter(chairs_needed__gt=50)\n"
   ]
  },
  {
   "cell_type": "code",
   "execution_count": 27,
   "id": "4949f328",
   "metadata": {},
   "outputs": [
    {
     "name": "stdout",
     "output_type": "stream",
     "text": [
      "Company CCC: Chair Needed = 60\n"
     ]
    }
   ],
   "source": [
    "for c in company:\n",
    "    print(f\"{c.name}: Chair Needed = {c.chairs_needed}\")"
   ]
  },
  {
   "cell_type": "code",
   "execution_count": 28,
   "id": "f95be76b",
   "metadata": {},
   "outputs": [
    {
     "name": "stdout",
     "output_type": "stream",
     "text": [
      "SELECT \"companies_company\".\"id\", \"companies_company\".\"name\", \"companies_company\".\"ticker\", \"companies_company\".\"num_employees\", \"companies_company\".\"num_tables\", \"companies_company\".\"num_chairs\", (\"companies_company\".\"num_employees\" - \"companies_company\".\"num_chairs\") AS \"chairs_needed\" FROM \"companies_company\" WHERE (\"companies_company\".\"num_employees\" - \"companies_company\".\"num_chairs\") > 50\n"
     ]
    }
   ],
   "source": [
    "print(company.query)"
   ]
  },
  {
   "cell_type": "code",
   "execution_count": 35,
   "id": "7048b1d4",
   "metadata": {},
   "outputs": [],
   "source": [
    "company = Company.objects.create(name=\"Google\", ticker=Upper(Value(\"goog\")), num_employees=10, num_tables=20, num_chairs=30)"
   ]
  },
  {
   "cell_type": "code",
   "execution_count": 38,
   "id": "ac52751f",
   "metadata": {},
   "outputs": [
    {
     "data": {
      "text/plain": [
       "<QuerySet [<Company: Google>, <Company: Company CCC>, <Company: Company BBB>, <Company: Company AAA>]>"
      ]
     },
     "execution_count": 38,
     "metadata": {},
     "output_type": "execute_result"
    }
   ],
   "source": [
    "# Order By\n",
    "Company.objects.all().order_by(\"-name\", \"num_employees\")"
   ]
  },
  {
   "cell_type": "code",
   "execution_count": 39,
   "id": "672561c2",
   "metadata": {},
   "outputs": [
    {
     "data": {
      "text/plain": [
       "<QuerySet [<Company: Google>, <Company: Company AAA>, <Company: Company BBB>, <Company: Company CCC>]>"
      ]
     },
     "execution_count": 39,
     "metadata": {},
     "output_type": "execute_result"
    }
   ],
   "source": [
    "Company.objects.all().order_by(Length(\"name\").asc())"
   ]
  },
  {
   "cell_type": "code",
   "execution_count": 40,
   "id": "84614990",
   "metadata": {},
   "outputs": [
    {
     "data": {
      "text/plain": [
       "<QuerySet [<Company: Company AAA>, <Company: Company BBB>, <Company: Company CCC>, <Company: Google>]>"
      ]
     },
     "execution_count": 40,
     "metadata": {},
     "output_type": "execute_result"
    }
   ],
   "source": [
    "Company.objects.all().order_by(Length(\"name\").desc())"
   ]
  },
  {
   "cell_type": "code",
   "execution_count": 41,
   "id": "45d07abf",
   "metadata": {},
   "outputs": [
    {
     "data": {
      "text/plain": [
       "<QuerySet [<Company: Company AAA>, <Company: Company BBB>, <Company: Company CCC>, <Company: Google>]>"
      ]
     },
     "execution_count": 41,
     "metadata": {},
     "output_type": "execute_result"
    }
   ],
   "source": [
    "# Lookup expressions can also be used directly in filters\n",
    "Company.objects.filter(GreaterThan(F(\"num_employees\"), F(\"num_chairs\")))\n",
    "# or annotations.\n",
    "Company.objects.annotate(\n",
    "    need_chairs=GreaterThan(F(\"num_employees\"), F(\"num_chairs\")),\n",
    ")"
   ]
  },
  {
   "cell_type": "markdown",
   "id": "cfbf2cde",
   "metadata": {},
   "source": [
    "# Books"
   ]
  },
  {
   "cell_type": "code",
   "id": "cb07cd2f",
   "metadata": {
    "ExecuteTime": {
     "end_time": "2024-08-01T03:11:09.973989Z",
     "start_time": "2024-08-01T03:11:09.787750Z"
    }
   },
   "source": "from books.models import Book",
   "outputs": [
    {
     "ename": "ImproperlyConfigured",
     "evalue": "Requested setting INSTALLED_APPS, but settings are not configured. You must either define the environment variable DJANGO_SETTINGS_MODULE or call settings.configure() before accessing settings.",
     "output_type": "error",
     "traceback": [
      "\u001B[0;31m---------------------------------------------------------------------------\u001B[0m",
      "\u001B[0;31mImproperlyConfigured\u001B[0m                      Traceback (most recent call last)",
      "Cell \u001B[0;32mIn[1], line 1\u001B[0m\n\u001B[0;32m----> 1\u001B[0m \u001B[38;5;28;01mfrom\u001B[39;00m \u001B[38;5;21;01mbooks\u001B[39;00m\u001B[38;5;21;01m.\u001B[39;00m\u001B[38;5;21;01mmodels\u001B[39;00m \u001B[38;5;28;01mimport\u001B[39;00m Book\n",
      "File \u001B[0;32m~/Desktop/Y3-Server Side/Labs/Lab05/week5_tutorial/books/models.py:4\u001B[0m\n\u001B[1;32m      1\u001B[0m \u001B[38;5;28;01mfrom\u001B[39;00m \u001B[38;5;21;01mdjango\u001B[39;00m\u001B[38;5;21;01m.\u001B[39;00m\u001B[38;5;21;01mdb\u001B[39;00m \u001B[38;5;28;01mimport\u001B[39;00m models\n\u001B[0;32m----> 4\u001B[0m \u001B[38;5;28;43;01mclass\u001B[39;49;00m\u001B[43m \u001B[49m\u001B[38;5;21;43;01mAuthor\u001B[39;49;00m\u001B[43m(\u001B[49m\u001B[43mmodels\u001B[49m\u001B[38;5;241;43m.\u001B[39;49m\u001B[43mModel\u001B[49m\u001B[43m)\u001B[49m\u001B[43m:\u001B[49m\n\u001B[1;32m      5\u001B[0m \u001B[43m    \u001B[49m\u001B[43mname\u001B[49m\u001B[43m \u001B[49m\u001B[38;5;241;43m=\u001B[39;49m\u001B[43m \u001B[49m\u001B[43mmodels\u001B[49m\u001B[38;5;241;43m.\u001B[39;49m\u001B[43mCharField\u001B[49m\u001B[43m(\u001B[49m\u001B[43mmax_length\u001B[49m\u001B[38;5;241;43m=\u001B[39;49m\u001B[38;5;241;43m100\u001B[39;49m\u001B[43m)\u001B[49m\n\u001B[1;32m      6\u001B[0m \u001B[43m    \u001B[49m\u001B[43mage\u001B[49m\u001B[43m \u001B[49m\u001B[38;5;241;43m=\u001B[39;49m\u001B[43m \u001B[49m\u001B[43mmodels\u001B[49m\u001B[38;5;241;43m.\u001B[39;49m\u001B[43mIntegerField\u001B[49m\u001B[43m(\u001B[49m\u001B[43m)\u001B[49m\n",
      "File \u001B[0;32m~/Desktop/Y3-Server Side/Labs/Lab05/.venv/lib/python3.12/site-packages/django/db/models/base.py:129\u001B[0m, in \u001B[0;36mModelBase.__new__\u001B[0;34m(cls, name, bases, attrs, **kwargs)\u001B[0m\n\u001B[1;32m    126\u001B[0m app_label \u001B[38;5;241m=\u001B[39m \u001B[38;5;28;01mNone\u001B[39;00m\n\u001B[1;32m    128\u001B[0m \u001B[38;5;66;03m# Look for an application configuration to attach the model to.\u001B[39;00m\n\u001B[0;32m--> 129\u001B[0m app_config \u001B[38;5;241m=\u001B[39m \u001B[43mapps\u001B[49m\u001B[38;5;241;43m.\u001B[39;49m\u001B[43mget_containing_app_config\u001B[49m\u001B[43m(\u001B[49m\u001B[43mmodule\u001B[49m\u001B[43m)\u001B[49m\n\u001B[1;32m    131\u001B[0m \u001B[38;5;28;01mif\u001B[39;00m \u001B[38;5;28mgetattr\u001B[39m(meta, \u001B[38;5;124m\"\u001B[39m\u001B[38;5;124mapp_label\u001B[39m\u001B[38;5;124m\"\u001B[39m, \u001B[38;5;28;01mNone\u001B[39;00m) \u001B[38;5;129;01mis\u001B[39;00m \u001B[38;5;28;01mNone\u001B[39;00m:\n\u001B[1;32m    132\u001B[0m     \u001B[38;5;28;01mif\u001B[39;00m app_config \u001B[38;5;129;01mis\u001B[39;00m \u001B[38;5;28;01mNone\u001B[39;00m:\n",
      "File \u001B[0;32m~/Desktop/Y3-Server Side/Labs/Lab05/.venv/lib/python3.12/site-packages/django/apps/registry.py:260\u001B[0m, in \u001B[0;36mApps.get_containing_app_config\u001B[0;34m(self, object_name)\u001B[0m\n\u001B[1;32m    251\u001B[0m \u001B[38;5;28;01mdef\u001B[39;00m \u001B[38;5;21mget_containing_app_config\u001B[39m(\u001B[38;5;28mself\u001B[39m, object_name):\n\u001B[1;32m    252\u001B[0m \u001B[38;5;250m    \u001B[39m\u001B[38;5;124;03m\"\"\"\u001B[39;00m\n\u001B[1;32m    253\u001B[0m \u001B[38;5;124;03m    Look for an app config containing a given object.\u001B[39;00m\n\u001B[1;32m    254\u001B[0m \n\u001B[0;32m   (...)\u001B[0m\n\u001B[1;32m    258\u001B[0m \u001B[38;5;124;03m    Return None if the object isn't in any registered app config.\u001B[39;00m\n\u001B[1;32m    259\u001B[0m \u001B[38;5;124;03m    \"\"\"\u001B[39;00m\n\u001B[0;32m--> 260\u001B[0m     \u001B[38;5;28;43mself\u001B[39;49m\u001B[38;5;241;43m.\u001B[39;49m\u001B[43mcheck_apps_ready\u001B[49m\u001B[43m(\u001B[49m\u001B[43m)\u001B[49m\n\u001B[1;32m    261\u001B[0m     candidates \u001B[38;5;241m=\u001B[39m []\n\u001B[1;32m    262\u001B[0m     \u001B[38;5;28;01mfor\u001B[39;00m app_config \u001B[38;5;129;01min\u001B[39;00m \u001B[38;5;28mself\u001B[39m\u001B[38;5;241m.\u001B[39mapp_configs\u001B[38;5;241m.\u001B[39mvalues():\n",
      "File \u001B[0;32m~/Desktop/Y3-Server Side/Labs/Lab05/.venv/lib/python3.12/site-packages/django/apps/registry.py:137\u001B[0m, in \u001B[0;36mApps.check_apps_ready\u001B[0;34m(self)\u001B[0m\n\u001B[1;32m    132\u001B[0m \u001B[38;5;28;01mfrom\u001B[39;00m \u001B[38;5;21;01mdjango\u001B[39;00m\u001B[38;5;21;01m.\u001B[39;00m\u001B[38;5;21;01mconf\u001B[39;00m \u001B[38;5;28;01mimport\u001B[39;00m settings\n\u001B[1;32m    134\u001B[0m \u001B[38;5;66;03m# If \"not ready\" is due to unconfigured settings, accessing\u001B[39;00m\n\u001B[1;32m    135\u001B[0m \u001B[38;5;66;03m# INSTALLED_APPS raises a more helpful ImproperlyConfigured\u001B[39;00m\n\u001B[1;32m    136\u001B[0m \u001B[38;5;66;03m# exception.\u001B[39;00m\n\u001B[0;32m--> 137\u001B[0m \u001B[43msettings\u001B[49m\u001B[38;5;241;43m.\u001B[39;49m\u001B[43mINSTALLED_APPS\u001B[49m\n\u001B[1;32m    138\u001B[0m \u001B[38;5;28;01mraise\u001B[39;00m AppRegistryNotReady(\u001B[38;5;124m\"\u001B[39m\u001B[38;5;124mApps aren\u001B[39m\u001B[38;5;124m'\u001B[39m\u001B[38;5;124mt loaded yet.\u001B[39m\u001B[38;5;124m\"\u001B[39m)\n",
      "File \u001B[0;32m~/Desktop/Y3-Server Side/Labs/Lab05/.venv/lib/python3.12/site-packages/django/conf/__init__.py:89\u001B[0m, in \u001B[0;36mLazySettings.__getattr__\u001B[0;34m(self, name)\u001B[0m\n\u001B[1;32m     87\u001B[0m \u001B[38;5;250m\u001B[39m\u001B[38;5;124;03m\"\"\"Return the value of a setting and cache it in self.__dict__.\"\"\"\u001B[39;00m\n\u001B[1;32m     88\u001B[0m \u001B[38;5;28;01mif\u001B[39;00m (_wrapped \u001B[38;5;241m:=\u001B[39m \u001B[38;5;28mself\u001B[39m\u001B[38;5;241m.\u001B[39m_wrapped) \u001B[38;5;129;01mis\u001B[39;00m empty:\n\u001B[0;32m---> 89\u001B[0m     \u001B[38;5;28;43mself\u001B[39;49m\u001B[38;5;241;43m.\u001B[39;49m\u001B[43m_setup\u001B[49m\u001B[43m(\u001B[49m\u001B[43mname\u001B[49m\u001B[43m)\u001B[49m\n\u001B[1;32m     90\u001B[0m     _wrapped \u001B[38;5;241m=\u001B[39m \u001B[38;5;28mself\u001B[39m\u001B[38;5;241m.\u001B[39m_wrapped\n\u001B[1;32m     91\u001B[0m val \u001B[38;5;241m=\u001B[39m \u001B[38;5;28mgetattr\u001B[39m(_wrapped, name)\n",
      "File \u001B[0;32m~/Desktop/Y3-Server Side/Labs/Lab05/.venv/lib/python3.12/site-packages/django/conf/__init__.py:69\u001B[0m, in \u001B[0;36mLazySettings._setup\u001B[0;34m(self, name)\u001B[0m\n\u001B[1;32m     67\u001B[0m \u001B[38;5;28;01mif\u001B[39;00m \u001B[38;5;129;01mnot\u001B[39;00m settings_module:\n\u001B[1;32m     68\u001B[0m     desc \u001B[38;5;241m=\u001B[39m (\u001B[38;5;124m\"\u001B[39m\u001B[38;5;124msetting \u001B[39m\u001B[38;5;132;01m%s\u001B[39;00m\u001B[38;5;124m\"\u001B[39m \u001B[38;5;241m%\u001B[39m name) \u001B[38;5;28;01mif\u001B[39;00m name \u001B[38;5;28;01melse\u001B[39;00m \u001B[38;5;124m\"\u001B[39m\u001B[38;5;124msettings\u001B[39m\u001B[38;5;124m\"\u001B[39m\n\u001B[0;32m---> 69\u001B[0m     \u001B[38;5;28;01mraise\u001B[39;00m ImproperlyConfigured(\n\u001B[1;32m     70\u001B[0m         \u001B[38;5;124m\"\u001B[39m\u001B[38;5;124mRequested \u001B[39m\u001B[38;5;132;01m%s\u001B[39;00m\u001B[38;5;124m, but settings are not configured. \u001B[39m\u001B[38;5;124m\"\u001B[39m\n\u001B[1;32m     71\u001B[0m         \u001B[38;5;124m\"\u001B[39m\u001B[38;5;124mYou must either define the environment variable \u001B[39m\u001B[38;5;132;01m%s\u001B[39;00m\u001B[38;5;124m \u001B[39m\u001B[38;5;124m\"\u001B[39m\n\u001B[1;32m     72\u001B[0m         \u001B[38;5;124m\"\u001B[39m\u001B[38;5;124mor call settings.configure() before accessing settings.\u001B[39m\u001B[38;5;124m\"\u001B[39m\n\u001B[1;32m     73\u001B[0m         \u001B[38;5;241m%\u001B[39m (desc, ENVIRONMENT_VARIABLE)\n\u001B[1;32m     74\u001B[0m     )\n\u001B[1;32m     76\u001B[0m \u001B[38;5;28mself\u001B[39m\u001B[38;5;241m.\u001B[39m_wrapped \u001B[38;5;241m=\u001B[39m Settings(settings_module)\n",
      "\u001B[0;31mImproperlyConfigured\u001B[0m: Requested setting INSTALLED_APPS, but settings are not configured. You must either define the environment variable DJANGO_SETTINGS_MODULE or call settings.configure() before accessing settings."
     ]
    }
   ],
   "execution_count": 1
  },
  {
   "cell_type": "code",
   "id": "b2c3dc88",
   "metadata": {
    "ExecuteTime": {
     "end_time": "2024-08-01T03:11:20.380745Z",
     "start_time": "2024-08-01T03:11:20.363828Z"
    }
   },
   "source": [
    "# Total number of books.\n",
    "Book.objects.count()"
   ],
   "outputs": [
    {
     "ename": "NameError",
     "evalue": "name 'Book' is not defined",
     "output_type": "error",
     "traceback": [
      "\u001B[0;31m---------------------------------------------------------------------------\u001B[0m",
      "\u001B[0;31mNameError\u001B[0m                                 Traceback (most recent call last)",
      "Cell \u001B[0;32mIn[2], line 2\u001B[0m\n\u001B[1;32m      1\u001B[0m \u001B[38;5;66;03m# Total number of books.\u001B[39;00m\n\u001B[0;32m----> 2\u001B[0m \u001B[43mBook\u001B[49m\u001B[38;5;241m.\u001B[39mobjects\u001B[38;5;241m.\u001B[39mcount()\n",
      "\u001B[0;31mNameError\u001B[0m: name 'Book' is not defined"
     ]
    }
   ],
   "execution_count": 2
  },
  {
   "cell_type": "code",
   "execution_count": 6,
   "id": "c8700f14",
   "metadata": {},
   "outputs": [
    {
     "data": {
      "text/plain": [
       "20"
      ]
     },
     "execution_count": 6,
     "metadata": {},
     "output_type": "execute_result"
    }
   ],
   "source": [
    "# Total number of books with publisher=Penguin Books\n",
    "Book.objects.filter(publisher__name=\"Penguin Books\").count()"
   ]
  },
  {
   "cell_type": "code",
   "execution_count": 7,
   "id": "216a975e",
   "metadata": {},
   "outputs": [
    {
     "data": {
      "text/plain": [
       "{'price__avg': Decimal('9.7018644067796610')}"
      ]
     },
     "execution_count": 7,
     "metadata": {},
     "output_type": "execute_result"
    }
   ],
   "source": [
    "Book.objects.aggregate(Avg(\"price\", default=0))"
   ]
  },
  {
   "cell_type": "code",
   "execution_count": 8,
   "id": "725084f5",
   "metadata": {},
   "outputs": [
    {
     "data": {
      "text/plain": [
       "{'price__max': Decimal('14.99')}"
      ]
     },
     "execution_count": 8,
     "metadata": {},
     "output_type": "execute_result"
    }
   ],
   "source": [
    "Book.objects.aggregate(Max(\"price\", default=0))"
   ]
  },
  {
   "cell_type": "code",
   "execution_count": null,
   "id": "bdc48e18",
   "metadata": {},
   "outputs": [],
   "source": [
    "Book.objects.annotate(avg_price=)"
   ]
  }
 ],
 "metadata": {
  "kernelspec": {
   "display_name": "Django Shell-Plus",
   "language": "python",
   "name": "django_extensions"
  },
  "language_info": {
   "codemirror_mode": {
    "name": "ipython",
    "version": 3
   },
   "file_extension": ".py",
   "mimetype": "text/x-python",
   "name": "python",
   "nbconvert_exporter": "python",
   "pygments_lexer": "ipython3",
   "version": "3.12.2"
  }
 },
 "nbformat": 4,
 "nbformat_minor": 5
}
