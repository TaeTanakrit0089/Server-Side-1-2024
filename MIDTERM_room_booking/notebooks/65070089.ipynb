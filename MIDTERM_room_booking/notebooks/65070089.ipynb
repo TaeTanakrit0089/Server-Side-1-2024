{
 "cells": [
  {
   "cell_type": "code",
   "execution_count": 2,
   "metadata": {},
   "outputs": [],
   "source": [
    "import os\n",
    "os.environ[\"DJANGO_ALLOW_ASYNC_UNSAFE\"] = \"true\"\n",
    "\n",
    "from datetime import datetime\n",
    "from django.utils import timezone\n",
    "from bookings.models import Room, RoomType, Staff, Booking"
   ]
  },
  {
   "cell_type": "markdown",
   "metadata": {},
   "source": [
    "# 1. CRUD operations"
   ]
  },
  {
   "cell_type": "markdown",
   "metadata": {},
   "source": [
    "1.1 ให้เพิ่มห้อง (`Room`) โดยมีข้อมูลดังนี้ (0.5 คะแนน)\n",
    "\n",
    "- number: 203\n",
    "- name: Laboratory A\n",
    "- capacity: 50\n",
    "- description: Laboratory for Web Development\n",
    "- room_types: Lecture, Office"
   ]
  },
  {
   "cell_type": "code",
   "execution_count": 5,
   "metadata": {},
   "outputs": [],
   "source": [
    "# CODE HERE\n",
    "\n",
    "lecture_room = RoomType.objects.get(name=\"Lecture\")\n",
    "office_room = RoomType.objects.get(name=\"Office\")\n",
    "\n",
    "new_room = Room(\n",
    "    number=203,\n",
    "    name=\"Laboratory A\",\n",
    "    capacity=50,\n",
    "    description=\"Laboratory for Web Development\"\n",
    ")\n",
    "\n",
    "new_room.save()\n",
    "new_room.room_types.add(lecture_room)\n",
    "new_room.room_types.add(office_room)\n",
    "\n"
   ]
  },
  {
   "cell_type": "code",
   "execution_count": 8,
   "metadata": {},
   "outputs": [
    {
     "name": "stdout",
     "output_type": "stream",
     "text": [
      "ROOM: Room 203: Laboratory A; ROOM TYPE: Lecture\n",
      "ROOM: Room 203: Laboratory A; ROOM TYPE: Office\n"
     ]
    }
   ],
   "source": [
    "# CHECK RESULTS (ห้ามลบ/แก้ไข)\n",
    "r = Room.objects.get(number=\"203\")\n",
    "for t in r.room_types.all():\n",
    "    print(f\"ROOM: {r}; ROOM TYPE: {t.name}\")"
   ]
  },
  {
   "cell_type": "markdown",
   "metadata": {},
   "source": [
    "1.2 เนื่องจากนโยบายการจองคือห้ามจองห้องเกิน 1 ชั่วโมง ดังนั้นให้ค้นหาการจองห้อง (`Booking`) ที่มีระยะเวลามากกว่า 1 ชั่วโมงและทำการลบออกทั้งหมด (1 คะแนน)\n",
    "\n",
    "**Hint: ให้ annotate() คำนวณระยะเวลาการจอง และนำระยะเวลาการจองมา filter() ดังตัวอย่าง**\n",
    "\n",
    "```python\n",
    "from datetime import timedelta\n",
    "\n",
    "queryset.filter(\n",
    "    duration__gt=timedelta(hours=1)\n",
    ")\n",
    "```"
   ]
  },
  {
   "cell_type": "code",
   "execution_count": 26,
   "metadata": {
    "scrolled": true
   },
   "outputs": [],
   "source": [
    "# CODE HERE - Filter การจองที่เกิน 1 ชม.\n",
    "from datetime import timedelta\n",
    "from django.db.models import F\n",
    "\n",
    "rooms = Booking.objects.annotate(durations=F('end_time')-F('start_time'))\n",
    "invalid_room = rooms.filter(durations__gt=timedelta(hours=1))\n",
    "\n",
    "# print(*invalid_room, sep='\\n')\n",
    "# print(invalid_room.count())"
   ]
  },
  {
   "cell_type": "code",
   "execution_count": 24,
   "metadata": {},
   "outputs": [
    {
     "data": {
      "text/plain": [
       "33"
      ]
     },
     "execution_count": 24,
     "metadata": {},
     "output_type": "execute_result"
    }
   ],
   "source": [
    "# CHECK RESULTS - จำนวนการจองทั้งหมด (ห้ามลบ/แก้ไข)\n",
    "Booking.objects.count()"
   ]
  },
  {
   "cell_type": "code",
   "execution_count": 29,
   "metadata": {},
   "outputs": [],
   "source": [
    "# CODE HERE - ลบการจองที่เกิน 1 ชม.\n",
    "for room in invalid_room:\n",
    "    room.delete()"
   ]
  },
  {
   "cell_type": "code",
   "execution_count": 30,
   "metadata": {},
   "outputs": [
    {
     "data": {
      "text/plain": [
       "20"
      ]
     },
     "execution_count": 30,
     "metadata": {},
     "output_type": "execute_result"
    }
   ],
   "source": [
    "# CHECK RESULTS - จำนวนการจองทั้งหมดหลังการลบ (ห้ามลบ/แก้ไข)\n",
    "Booking.objects.count()"
   ]
  },
  {
   "cell_type": "markdown",
   "metadata": {},
   "source": [
    "1.3 ทำการเพิ่มการจอง (`Booking`) ซึ่งมีรายละเอียดดังนี้ (1 คะแนน)\n",
    "\n",
    "- staff: \"Jane Smith\"\n",
    "- room: \"Lecture Hall A\"\n",
    "- start_time: 26/08/2024 13:00\n",
    "- end_time: 26/08/2024 14:00\n",
    "- purpose: \"To teach subject: IT Project Management\""
   ]
  },
  {
   "cell_type": "code",
   "execution_count": 11,
   "metadata": {},
   "outputs": [],
   "source": [
    "# CODE HERE\n",
    "from zoneinfo import ZoneInfo\n",
    "from django.utils import timezone\n",
    "\n",
    "angelina_jolie = Staff.objects.get(name=\"Jane Smith\")\n",
    "sooksan_lecture = Room.objects.get(name=\"Lecture Hall A\")\n",
    "\n",
    "start_time=datetime(2024, 8, 26, 13, 0 ,0, tzinfo = ZoneInfo(key='Asia/Bangkok'))\n",
    "end_time=datetime(2024, 8, 26, 14, 0 , 0, tzinfo = ZoneInfo(key='Asia/Bangkok'))\n",
    "\n",
    "new_booking = Booking(\n",
    "    staff=angelina_jolie,\n",
    "    room=sooksan_lecture,\n",
    "    start_time=start_time,\n",
    "    end_time=end_time,\n",
    "    purpose=\"To teach subject: IT Project Management\"\n",
    ")\n",
    "\n",
    "new_booking.save()"
   ]
  },
  {
   "cell_type": "code",
   "execution_count": 12,
   "metadata": {},
   "outputs": [
    {
     "name": "stdout",
     "output_type": "stream",
     "text": [
      "STAFF: Jane Smith, ROOM: Room 202: Lecture Hall A, START: 2024-08-26 13:00:00+07:00 - 2024-08-26 14:00:00+07:00\n"
     ]
    }
   ],
   "source": [
    "# CHECK RESULTS (ห้ามลบ/แก้ไข)\n",
    "booking = Booking.objects.last()\n",
    "print(f\"STAFF: {booking.staff}, ROOM: {booking.room}, START: {timezone.localtime(booking.start_time)} - {timezone.localtime(booking.end_time)}\")"
   ]
  },
  {
   "cell_type": "markdown",
   "metadata": {},
   "source": [
    "1.4 จากข้อ 1.3 คุณ \"Jane Smith\" จองห้องผิดจริงๆ เขาอยากจะจองเป็น \"Laboratory A\" (ที่สร้างในข้อ 1.1) (0.5 คะแนน)"
   ]
  },
  {
   "cell_type": "code",
   "execution_count": 13,
   "metadata": {},
   "outputs": [],
   "source": [
    "lab_a = Room.objects.get(name=\"Laboratory A\")\n",
    "new_booking.room = lab_a\n",
    "new_booking.save()"
   ]
  },
  {
   "cell_type": "code",
   "execution_count": 14,
   "metadata": {},
   "outputs": [
    {
     "name": "stdout",
     "output_type": "stream",
     "text": [
      "STAFF: Jane Smith, ROOM: Room 203: Laboratory A, START: 2024-08-26 13:00:00+07:00 - 2024-08-26 14:00:00+07:00\n"
     ]
    }
   ],
   "source": [
    "# CHECK RESULTS (ห้ามลบ/แก้ไข)\n",
    "booking = Booking.objects.last()\n",
    "print(f\"STAFF: {booking.staff}, ROOM: {booking.room}, START: {timezone.localtime(booking.start_time)} - {timezone.localtime(booking.end_time)}\")"
   ]
  },
  {
   "cell_type": "markdown",
   "metadata": {},
   "source": [
    "# 2. Making Queries"
   ]
  },
  {
   "cell_type": "markdown",
   "metadata": {},
   "source": [
    "**ให้ทำการ reset DB และ import ข้อมูลใน bookings.sql เข้าไปใหม่**"
   ]
  },
  {
   "cell_type": "markdown",
   "metadata": {},
   "source": [
    "2.1 ให้หาจำนวนการจองที่จองในช่วงวันที่ (`Booking`) ในช่วงวันที่ 2024-08-18 ถึง 2024-08-25 ที่จองห้องในประเภท (`RoomType`) \"Conference\" (1 คะแนน)\n",
    "\n",
    "**Expected Output**\n",
    "\n",
    "จะต้องมี 7 รายการ\n",
    "\n",
    "*หมายเหตุ: จะต้อง get ข้อมูลมาโดยใช้การ query ด้วยชื่อตามที่โจทย์ว่าเท่านั้น ห้ามใช้ id ใน database*"
   ]
  },
  {
   "cell_type": "code",
   "execution_count": 32,
   "metadata": {},
   "outputs": [
    {
     "name": "stdout",
     "output_type": "stream",
     "text": [
      "Booking by John Doe for Room 101: Main Conference Room from 2024-08-18 09:00:00+00:00 to 2024-08-18 11:00:00+00:00\n",
      "\n",
      "Booking by Emily Davis for Room 303: Executive Office from 2024-08-18 15:00:00+00:00 to 2024-08-18 16:00:00+00:00\n",
      "\n",
      "Booking by John Doe for Room 101: Main Conference Room from 2024-08-19 10:00:00+00:00 to 2024-08-19 12:00:00+00:00\n",
      "\n",
      "Booking by Jane Smith for Room 303: Executive Office from 2024-08-19 15:00:00+00:00 to 2024-08-19 16:00:00+00:00\n",
      "\n",
      "Booking by Emily Davis for Room 303: Executive Office from 2024-08-22 14:00:00+00:00 to 2024-08-22 15:30:00+00:00\n",
      "\n",
      "Booking by John Doe for Room 303: Executive Office from 2024-08-24 11:00:00+00:00 to 2024-08-24 13:00:00+00:00\n",
      "\n",
      "Booking by Jane Smith for Room 101: Main Conference Room from 2024-08-24 09:30:00+00:00 to 2024-08-24 10:30:00+00:00\n"
     ]
    }
   ],
   "source": [
    "# CODE HERE\n",
    "room = RoomType.objects.get(name=\"Conference\")\n",
    "\n",
    "result = Booking.objects.filter(\n",
    "    start_time__year=2024,\n",
    "    start_time__month=8,\n",
    "    start_time__day__range=(18, 25),\n",
    "    room__room_types=room\n",
    ")\n",
    "\n",
    "print(*result, sep='\\n\\n')"
   ]
  },
  {
   "cell_type": "markdown",
   "metadata": {},
   "source": [
    "2.2 ให้หาจำนวนการจองของห้องแต่ละห้อง โดยแสดงผลดังนี้ - เรียงจากจำนวนการจอง มาก ไป น้อย (1 คะแนน)\n",
    "\n",
    "**Expected Output**\n",
    "\n",
    "```\n",
    "ROOM: Room 101: Main Conference Room, BOOKINGS: 12\n",
    "ROOM: Room 303: Executive Office, BOOKINGS: 12\n",
    "ROOM: Room 202: Lecture Hall A, BOOKINGS: 9\n",
    "```"
   ]
  },
  {
   "cell_type": "code",
   "execution_count": 47,
   "metadata": {},
   "outputs": [
    {
     "name": "stdout",
     "output_type": "stream",
     "text": [
      "ROOM: Room 101: Main Conference Room, BOOKINGS: 12\n",
      "ROOM: Room 303: Executive Office, BOOKINGS: 12\n",
      "ROOM: Room 202: Lecture Hall A, BOOKINGS: 9\n"
     ]
    }
   ],
   "source": [
    "# CODE HERE\n",
    "from django.db.models import Count\n",
    "\n",
    "room_bookings = Room.objects.annotate(bookings=Count('booking')).order_by('-bookings')\n",
    "\n",
    "for i in room_bookings:\n",
    "    print(f\"ROOM: Room {i.number}: {i.name}, BOOKINGS: {i.bookings}\")"
   ]
  },
  {
   "cell_type": "markdown",
   "metadata": {},
   "source": [
    "2.3 ในช่วงวันที่ 2024-08-18 ถึง 2024-08-25 ให้หาว่าพนักงานแต่ละคนมีการจองห้องไหนบ้าง โดยแสดงผลดังนี้ (2 คะแนน)\n",
    "\n",
    "**Expected Output**\n",
    "\n",
    "```\n",
    "STAFF: John Doe, BOOKED ROOMS: Main Conference Room, Executive Office\n",
    "STAFF: Jane Smith, BOOKED ROOMS: Main Conference Room, Executive Office, Lecture Hall A\n",
    "STAFF: Emily Davis, BOOKED ROOMS: Lecture Hall A, Executive Office\n",
    "```"
   ]
  },
  {
   "cell_type": "code",
   "execution_count": 108,
   "metadata": {},
   "outputs": [
    {
     "name": "stdout",
     "output_type": "stream",
     "text": [
      "STAFF: John Doe, BOOKED ROOMS: Executive Office, Main Conference Room\n",
      "STAFF: Jane Smith, BOOKED ROOMS: Executive Office, Lecture Hall A, Main Conference Room\n",
      "STAFF: Emily Davis, BOOKED ROOMS: Executive Office, Lecture Hall A\n"
     ]
    }
   ],
   "source": [
    "# CODE HERE\n",
    "# all_bookings = Booking.objects.values('staff', 'room').distinct()\n",
    "# all_bookings = Staff.objects.values('id', 'name', 'booking__room__room_types__name').distinct().order_by('id')\n",
    "all_staff = Staff.objects.all().values('id')\n",
    "\n",
    "all_staff_bookings = {}\n",
    "for i in all_staff:\n",
    "    temp_list = []\n",
    "    staff_bookings = Staff.objects.filter(\n",
    "        id=i['id'],\n",
    "        booking__start_time__year=2024,\n",
    "        booking__start_time__month=8,\n",
    "        booking__start_time__day__range=(18, 25)\n",
    "    ).values('name', 'booking__room__name').distinct()\n",
    "    for room in staff_bookings:\n",
    "        temp_list.append(room['booking__room__name'])\n",
    "    all_staff_bookings[i['id']] = temp_list\n",
    "    \n",
    "    print(f\"STAFF: {staff_bookings[0]['name']}, BOOKED ROOMS: {', '.join(temp_list)}\")    \n"
   ]
  },
  {
   "cell_type": "markdown",
   "metadata": {},
   "source": [
    "2.4 ให้หาว่าการจองห้องในแต่ละวันมีค่าความจุ (ดูจาก `Room.capacity`) โดยรวมเท่าไหร่ เรียงลำดับความจุรวมจากมากไปน้อย (2 คะแนน)\n",
    "\n",
    "**Expected Output**\n",
    "\n",
    "```\n",
    "DATE: 2024-08-26, SUM CAPACITY: 155\n",
    "DATE: 2024-08-24, SUM CAPACITY: 155\n",
    "DATE: 2024-08-30, SUM CAPACITY: 155\n",
    "DATE: 2024-08-19, SUM CAPACITY: 155\n",
    "DATE: 2024-09-02, SUM CAPACITY: 100\n",
    "DATE: 2024-09-06, SUM CAPACITY: 100\n",
    "DATE: 2024-09-12, SUM CAPACITY: 100\n",
    "DATE: 2024-09-07, SUM CAPACITY: 100\n",
    "DATE: 2024-09-13, SUM CAPACITY: 100\n",
    "DATE: 2024-09-14, SUM CAPACITY: 55\n",
    "DATE: 2024-08-18, SUM CAPACITY: 55\n",
    "DATE: 2024-08-28, SUM CAPACITY: 55\n",
    "DATE: 2024-09-05, SUM CAPACITY: 50\n",
    "DATE: 2024-09-08, SUM CAPACITY: 50\n",
    "DATE: 2024-09-01, SUM CAPACITY: 50\n",
    "DATE: 2024-09-10, SUM CAPACITY: 50\n",
    "DATE: 2024-09-03, SUM CAPACITY: 50\n",
    "DATE: 2024-09-11, SUM CAPACITY: 5\n",
    "DATE: 2024-08-27, SUM CAPACITY: 5\n",
    "DATE: 2024-09-09, SUM CAPACITY: 5\n",
    "DATE: 2024-09-04, SUM CAPACITY: 5\n",
    "DATE: 2024-08-22, SUM CAPACITY: 5\n",
    "```"
   ]
  },
  {
   "cell_type": "code",
   "execution_count": 201,
   "metadata": {},
   "outputs": [
    {
     "name": "stdout",
     "output_type": "stream",
     "text": [
      "50\n",
      "50\n",
      "100\n",
      "100\n",
      "5\n",
      "50\n",
      "100\n",
      "5\n",
      "50\n",
      "50\n",
      "5\n",
      "5\n",
      "100\n",
      "100\n",
      "5\n",
      "5\n",
      "50\n",
      "5\n",
      "100\n",
      "100\n",
      "50\n",
      "5\n"
     ]
    }
   ],
   "source": [
    "# CODE HERE\n",
    "from django.db.models import Sum, Value\n",
    "from django.db.models.functions import Concat\n",
    "\n",
    "dash_values = Value('-')\n",
    "\n",
    "day_bookings = Booking.objects.all()\n",
    "\n",
    "all_date = set()\n",
    "for i in day_bookings:\n",
    "    all_date.add(i.start_time.date())\n",
    "\n",
    "for date in all_date:\n",
    "    sum_booking = Booking.objects.filter(\n",
    "        start_time__year=date.year,\n",
    "        start_time__month=date.month,\n",
    "        start_time__day=date.day\n",
    "    ).annotate(capacity=Sum('room__capacity')).values('capacity')\n",
    "    print(sum_booking[0]['capacity'])"
   ]
  },
  {
   "cell_type": "markdown",
   "metadata": {},
   "source": [
    "2.5 จงหาการจองที่มีวัตถุประสงค์ (`Booking.purpose`) ที่มีความยาวตัวอักษรมากกว่า 20 ตัวอักษร หรือ จะต้องใช้ห้องที่มีความจุมากกว่าหรือเท่ากับ 100 (1 คะแนน)\n",
    "\n",
    "**Expected Output**\n",
    "\n",
    "```\n",
    "START DATE: 2024-08-18, ROOM: Room 101: Main Conference Room, PURPOSE LENGTH: 21, ROOM CAP: 50\n",
    "START DATE: 2024-08-19, ROOM: Room 202: Lecture Hall A, PURPOSE LENGTH: 19, ROOM CAP: 100\n",
    "START DATE: 2024-08-19, ROOM: Room 303: Executive Office, PURPOSE LENGTH: 22, ROOM CAP: 5\n",
    "START DATE: 2024-08-24, ROOM: Room 303: Executive Office, PURPOSE LENGTH: 25, ROOM CAP: 5\n",
    "START DATE: 2024-08-24, ROOM: Room 202: Lecture Hall A, PURPOSE LENGTH: 15, ROOM CAP: 100\n",
    "START DATE: 2024-08-26, ROOM: Room 202: Lecture Hall A, PURPOSE LENGTH: 12, ROOM CAP: 100\n",
    "START DATE: 2024-08-27, ROOM: Room 303: Executive Office, PURPOSE LENGTH: 21, ROOM CAP: 5\n",
    "START DATE: 2024-08-30, ROOM: Room 202: Lecture Hall A, PURPOSE LENGTH: 19, ROOM CAP: 100\n",
    "START DATE: 2024-08-30, ROOM: Room 303: Executive Office, PURPOSE LENGTH: 23, ROOM CAP: 5\n",
    "START DATE: 2024-09-02, ROOM: Room 202: Lecture Hall A, PURPOSE LENGTH: 21, ROOM CAP: 100\n",
    "START DATE: 2024-09-03, ROOM: Room 101: Main Conference Room, PURPOSE LENGTH: 24, ROOM CAP: 50\n",
    "START DATE: 2024-09-05, ROOM: Room 101: Main Conference Room, PURPOSE LENGTH: 23, ROOM CAP: 50\n",
    "START DATE: 2024-09-06, ROOM: Room 202: Lecture Hall A, PURPOSE LENGTH: 22, ROOM CAP: 100\n",
    "START DATE: 2024-09-07, ROOM: Room 202: Lecture Hall A, PURPOSE LENGTH: 18, ROOM CAP: 100\n",
    "START DATE: 2024-09-10, ROOM: Room 101: Main Conference Room, PURPOSE LENGTH: 22, ROOM CAP: 50\n",
    "START DATE: 2024-09-12, ROOM: Room 202: Lecture Hall A, PURPOSE LENGTH: 22, ROOM CAP: 100\n",
    "START DATE: 2024-09-13, ROOM: Room 202: Lecture Hall A, PURPOSE LENGTH: 14, ROOM CAP: 100\n",
    "START DATE: 2024-09-14, ROOM: Room 101: Main Conference Room, PURPOSE LENGTH: 21, ROOM CAP: 50\n",
    "```"
   ]
  },
  {
   "cell_type": "code",
   "execution_count": null,
   "metadata": {},
   "outputs": [],
   "source": [
    "# CODE HERE\n"
   ]
  }
 ],
 "metadata": {
  "kernelspec": {
   "display_name": "Django Shell-Plus",
   "language": "python",
   "name": "django_extensions"
  },
  "language_info": {
   "codemirror_mode": {
    "name": "ipython",
    "version": 3
   },
   "file_extension": ".py",
   "mimetype": "text/x-python",
   "name": "python",
   "nbconvert_exporter": "python",
   "pygments_lexer": "ipython3",
   "version": "3.12.3"
  }
 },
 "nbformat": 4,
 "nbformat_minor": 2
}
